{
 "cells": [
  {
   "cell_type": "code",
   "execution_count": 5,
   "metadata": {},
   "outputs": [
    {
     "name": "stdout",
     "output_type": "stream",
     "text": [
      "(w1 * f1) 0.2 * 1 = 0.2\n",
      "(w2 * f2) -0.3 * 0 = -0.0\n",
      "(w3 * f3) 0.4 * 1 = 0.4\n",
      "total weight 0.6000000000000001 + bios 1 = 1.6\n",
      "\n",
      "final z value is: 1.6\n",
      "final a value is: 0.8320183851339245\n"
     ]
    }
   ],
   "source": [
    "import pandas as pd\n",
    "import numpy as np\n",
    "import math\n",
    "\n",
    "features = [1, 0, 1] #feature1...feature3\n",
    "bios = 1\n",
    "weights = [0.2, -0.3, 0.4] #weight w1...w3\n",
    "\n",
    "#calcuate weighed sum of inputs/features (also refer as Forward Propogration in ANN)\n",
    "def forwardProp(w, f, b):\n",
    "  #intitize z value with b\n",
    "  totalWeight = 0\n",
    "  for i in range(len(w)):\n",
    "    print(\"(w{} * f{}) {} * {} = {}\".format(i+1, i+1, w[i], f[i], (w[i] * f[i])))\n",
    "    totalWeight = totalWeight + (w[i] * f[i])\n",
    "\n",
    "  z = totalWeight + b\n",
    "  print(\"total weight {} + bios {} = {}\".format(totalWeight, b, z))\n",
    "  return z\n",
    "\n",
    "#using sigmoid activation function here to calucate z value\n",
    "def sigmoid(z):\n",
    "   a = (1/(1 + math.exp(-z)))\n",
    "   return a\n",
    "\n",
    "z = forwardProp(weights, features, bios)\n",
    "a = sigmoid(z)\n",
    "print(\"\\nfinal z value is:\", z)\n",
    "print(\"final a value is:\", a)  "
   ]
  }
 ],
 "metadata": {
  "kernelspec": {
   "display_name": "Python 3",
   "language": "python",
   "name": "python3"
  },
  "language_info": {
   "codemirror_mode": {
    "name": "ipython",
    "version": 3
   },
   "file_extension": ".py",
   "mimetype": "text/x-python",
   "name": "python",
   "nbconvert_exporter": "python",
   "pygments_lexer": "ipython3",
   "version": "3.11.5"
  }
 },
 "nbformat": 4,
 "nbformat_minor": 2
}
